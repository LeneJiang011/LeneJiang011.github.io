{
 "cells": [
  {
   "cell_type": "code",
   "execution_count": 84,
   "metadata": {},
   "outputs": [],
   "source": [
    "path = []\n",
    "result = []\n",
    "test = [1,2,3,4]"
   ]
  },
  {
   "cell_type": "code",
   "execution_count": 6,
   "metadata": {},
   "outputs": [
    {
     "data": {
      "text/plain": [
       "1"
      ]
     },
     "execution_count": 6,
     "metadata": {},
     "output_type": "execute_result"
    }
   ],
   "source": [
    "path.pop()"
   ]
  },
  {
   "cell_type": "code",
   "execution_count": 120,
   "metadata": {},
   "outputs": [],
   "source": [
    "import copy\n",
    "\n",
    "def backtrack(n, k, startIndex):\n",
    "    if (len(path) == k):\n",
    "        print(path)\n",
    "        result.append(copy.copy(path))\n",
    "        print(result)\n",
    "        return\n",
    "    for i in range(startIndex, n):\n",
    "        path.append(i)\n",
    "        #print(path)\n",
    "        #print(\"i after the append is\")\n",
    "        #print(i)\n",
    "        backtrack(n, k, i+1)\n",
    "        path.pop()"
   ]
  },
  {
   "cell_type": "code",
   "execution_count": 121,
   "metadata": {},
   "outputs": [
    {
     "name": "stdout",
     "output_type": "stream",
     "text": [
      "[0, 1]\n",
      "[[0, 1]]\n",
      "[0, 2]\n",
      "[[0, 1], [0, 2]]\n",
      "[0, 3]\n",
      "[[0, 1], [0, 2], [0, 3]]\n",
      "[1, 2]\n",
      "[[0, 1], [0, 2], [0, 3], [1, 2]]\n",
      "[1, 3]\n",
      "[[0, 1], [0, 2], [0, 3], [1, 2], [1, 3]]\n",
      "[2, 3]\n",
      "[[0, 1], [0, 2], [0, 3], [1, 2], [1, 3], [2, 3]]\n"
     ]
    }
   ],
   "source": [
    "path = []\n",
    "result = []\n",
    "backtrack(len(test), 2, 0)"
   ]
  },
  {
   "cell_type": "code",
   "execution_count": 107,
   "metadata": {},
   "outputs": [
    {
     "data": {
      "text/plain": [
       "[[], [], [], [], [], []]"
      ]
     },
     "execution_count": 107,
     "metadata": {},
     "output_type": "execute_result"
    }
   ],
   "source": [
    "result"
   ]
  },
  {
   "cell_type": "code",
   "execution_count": 96,
   "metadata": {},
   "outputs": [],
   "source": [
    "a = []\n",
    "b = [1,2]\n",
    "c = [1,3]\n",
    "a.append(b)\n",
    "a.append(c)"
   ]
  },
  {
   "cell_type": "code",
   "execution_count": 97,
   "metadata": {},
   "outputs": [
    {
     "data": {
      "text/plain": [
       "[[1, 2], [1, 3]]"
      ]
     },
     "execution_count": 97,
     "metadata": {},
     "output_type": "execute_result"
    }
   ],
   "source": [
    "a"
   ]
  },
  {
   "cell_type": "code",
   "execution_count": null,
   "metadata": {},
   "outputs": [],
   "source": []
  }
 ],
 "metadata": {
  "kernelspec": {
   "display_name": "Python 3",
   "language": "python",
   "name": "python3"
  },
  "language_info": {
   "codemirror_mode": {
    "name": "ipython",
    "version": 3
   },
   "file_extension": ".py",
   "mimetype": "text/x-python",
   "name": "python",
   "nbconvert_exporter": "python",
   "pygments_lexer": "ipython3",
   "version": "3.6.4"
  }
 },
 "nbformat": 4,
 "nbformat_minor": 2
}
